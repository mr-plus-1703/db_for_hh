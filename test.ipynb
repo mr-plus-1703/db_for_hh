{
 "cells": [
  {
   "cell_type": "code",
   "execution_count": 2,
   "metadata": {},
   "outputs": [],
   "source": [
    "import pandas as pd"
   ]
  },
  {
   "cell_type": "code",
   "execution_count": 4,
   "metadata": {},
   "outputs": [
    {
     "name": "stdout",
     "output_type": "stream",
     "text": [
      "Обработка завершена. Результат сохранен в файл MRSK+PCBK.xlsx.\n"
     ]
    }
   ],
   "source": [
    "# Загрузка Excel файла\n",
    "input_file = \"MRSK+PCBK.xlsx\"  # Укажите путь к вашему файлу\n",
    "output_file = \"MRSK+PCBK.xlsx\"  # Укажите имя файла для сохранения результата\n",
    "\n",
    "# Чтение файла\n",
    "df = pd.read_excel(input_file)\n",
    "\n",
    "# Предполагаем, что нужно обработать первую колонку\n",
    "# Замените 'Column1' на имя вашей первой колонки, если оно известно\n",
    "first_column_name = df.columns[0]\n",
    "\n",
    "# Удаление всех слов кроме первого\n",
    "df[first_column_name] = df[first_column_name].astype(str).apply(lambda x: x.split()[0] if pd.notnull(x) else x)\n",
    "\n",
    "# Сохранение результата в новый Excel файл\n",
    "df.to_excel(output_file, index=False)\n",
    "\n",
    "print(f\"Обработка завершена. Результат сохранен в файл {output_file}.\")"
   ]
  },
  {
   "cell_type": "code",
   "execution_count": 10,
   "metadata": {},
   "outputs": [
    {
     "name": "stdout",
     "output_type": "stream",
     "text": [
      "Все значения приведены к нижнему регистру. Результат сохранен в файл MRSK+PCBK_new.xlsx.\n"
     ]
    },
    {
     "name": "stderr",
     "output_type": "stream",
     "text": [
      "C:\\Users\\vanya\\AppData\\Local\\Temp\\ipykernel_8960\\3649617279.py:10: FutureWarning: DataFrame.applymap has been deprecated. Use DataFrame.map instead.\n",
      "  df = df.applymap(lambda x: x.lower() if isinstance(x, str) else x)\n"
     ]
    }
   ],
   "source": [
    "# Укажите путь к входному и выходному файлам\n",
    "input_file = \"MRSK+PCBK.xlsx\"  # Укажите путь к вашему файлу\n",
    "output_file = \"MRSK+PCBK_new.xlsx\"  # Укажите имя файла для сохранения результата\n",
    "\n",
    "# Загрузка файла\n",
    "df = pd.read_excel(input_file)\n",
    "\n",
    "# Преобразование каждого значения в каждом столбце к нижнему регистру\n",
    "# Применяем str.lower() только к текстовым значениям\n",
    "df = df.applymap(lambda x: x.lower() if isinstance(x, str) else x)\n",
    "\n",
    "# Сохранение результата в новый файл\n",
    "df.to_excel(output_file, index=False)\n",
    "\n",
    "print(f\"Все значения приведены к нижнему регистру. Результат сохранен в файл {output_file}.\")"
   ]
  },
  {
   "cell_type": "code",
   "execution_count": 11,
   "metadata": {},
   "outputs": [
    {
     "name": "stdout",
     "output_type": "stream",
     "text": [
      "Строки без слова 'образование' удалены. Результат сохранен в файл MRSK+PCBK_new.xlsx.\n"
     ]
    }
   ],
   "source": [
    "import pandas as pd\n",
    "\n",
    "# Укажите путь к входному и выходному файлам\n",
    "input_file = \"MRSK+PCBK_new.xlsx\"  # Укажите путь к вашему файлу\n",
    "output_file = \"MRSK+PCBK_new.xlsx\"  # Укажите имя файла для сохранения результата\n",
    "\n",
    "# Загрузка файла\n",
    "df = pd.read_excel(input_file)\n",
    "\n",
    "# Проверяем каждую ячейку на наличие слова \"образование\" и фильтруем строки\n",
    "# Предполагаем, что проверяем все столбцы на наличие слова \"образование\"\n",
    "# Если нужно проверить конкретный столбец, замените df на df['ColumnName']\n",
    "df = df[df.apply(lambda row: row.astype(str).str.contains(\"образование\", case=False).any(), axis=1)]\n",
    "\n",
    "# Сохранение результата в новый файл\n",
    "df.to_excel(output_file, index=False)\n",
    "\n",
    "print(f\"Строки без слова 'образование' удалены. Результат сохранен в файл {output_file}.\")\n"
   ]
  },
  {
   "cell_type": "code",
   "execution_count": 12,
   "metadata": {},
   "outputs": [
    {
     "name": "stdout",
     "output_type": "stream",
     "text": [
      "Данные по образованию вынесены в отдельную колонку. Результат сохранен в файл MRSK+PCBK_new.xlsx.\n"
     ]
    }
   ],
   "source": [
    "# Укажите путь к входному и выходному файлам\n",
    "input_file = \"MRSK+PCBK_new.xlsx\"  # Укажите путь к вашему файлу\n",
    "output_file = \"MRSK+PCBK_new.xlsx\"  # Укажите имя файла для сохранения результата\n",
    "\n",
    "# Загрузка файла\n",
    "df = pd.read_excel(input_file)\n",
    "\n",
    "# Создаем новую колонку с данными по образованию\n",
    "def extract_education(text):\n",
    "    if isinstance(text, str) and \"образование\" in text.lower():\n",
    "        return text  # Возвращаем текст, если есть слово \"образование\"\n",
    "    return None  # Возвращаем None, если слова \"образование\" нет\n",
    "\n",
    "df['Образование 2'] = df.apply(lambda row: row.astype(str).apply(extract_education).dropna().str.cat(sep=' '), axis=1)\n",
    "\n",
    "# Удаляем строки, где в новой колонке нет данных по образованию\n",
    "df = df[df['Образование'].notna()]\n",
    "\n",
    "# Сохранение результата в новый файл\n",
    "df.to_excel(output_file, index=False)\n",
    "\n",
    "print(f\"Данные по образованию вынесены в отдельную колонку. Результат сохранен в файл {output_file}.\")\n"
   ]
  },
  {
   "cell_type": "code",
   "execution_count": 13,
   "metadata": {},
   "outputs": [
    {
     "name": "stdout",
     "output_type": "stream",
     "text": [
      "Данные по образованию вынесены в отдельную колонку. Результат сохранен в файл MRSK+PCBK_new.xlsx.\n"
     ]
    }
   ],
   "source": [
    "# Укажите путь к входному и выходному файлам\n",
    "input_file = \"MRSK+PCBK_new.xlsx\"  # Укажите путь к вашему файлу\n",
    "output_file = \"MRSK+PCBK_new.xlsx\"  # Укажите имя файла для сохранения результата\n",
    "\n",
    "# Загрузка файла\n",
    "df = pd.read_excel(input_file)\n",
    "\n",
    "# Создаем новую колонку с данными по образованию\n",
    "def extract_education(text):\n",
    "    if isinstance(text, str) and \"опыт\" in text.lower():\n",
    "        return text  # Возвращаем текст, если есть слово \"образование\"\n",
    "    return None  # Возвращаем None, если слова \"образование\" нет\n",
    "\n",
    "df['Опыт работы'] = df.apply(lambda row: row.astype(str).apply(extract_education).dropna().str.cat(sep=' '), axis=1)\n",
    "\n",
    "\n",
    "# Сохранение результата в новый файл\n",
    "df.to_excel(output_file, index=False)\n",
    "\n",
    "print(f\"Данные по образованию вынесены в отдельную колонку. Результат сохранен в файл {output_file}.\")\n"
   ]
  },
  {
   "cell_type": "code",
   "execution_count": 15,
   "metadata": {},
   "outputs": [],
   "source": [
    "# Укажите путь к входному и выходному файлам\n",
    "input_file = \"MRSK+PCBK_new.xlsx\"  # Укажите путь к вашему файлу\n",
    "output_file = \"MRSK+PCBK_new.xlsx\"  # Укажите имя файла для сохранения результата\n",
    "\n",
    "# Загрузка файла\n",
    "df = pd.read_excel(input_file)\n",
    "\n",
    "def remove_after_dot(text):\n",
    "    if isinstance(text, str):\n",
    "        return text.split(';')[0]  # Оставляем только текст до первой точки\n",
    "    return text\n",
    "\n",
    "df['Опыт работы'] = df['Опыт работы'].apply(remove_after_dot)\n",
    "\n",
    "# Сохранение результата в новый файл\n",
    "df.to_excel(output_file, index=False)"
   ]
  }
 ],
 "metadata": {
  "kernelspec": {
   "display_name": "Python 3",
   "language": "python",
   "name": "python3"
  },
  "language_info": {
   "codemirror_mode": {
    "name": "ipython",
    "version": 3
   },
   "file_extension": ".py",
   "mimetype": "text/x-python",
   "name": "python",
   "nbconvert_exporter": "python",
   "pygments_lexer": "ipython3",
   "version": "3.12.8"
  }
 },
 "nbformat": 4,
 "nbformat_minor": 2
}
